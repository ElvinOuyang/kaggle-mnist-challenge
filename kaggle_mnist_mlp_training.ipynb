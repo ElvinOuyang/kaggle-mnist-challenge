{
 "cells": [
  {
   "cell_type": "markdown",
   "metadata": {},
   "source": [
    "# Training a multi-layer perceptron (MLP) on MNIST Kaggle challenge"
   ]
  },
  {
   "cell_type": "code",
   "execution_count": 1,
   "metadata": {},
   "outputs": [],
   "source": [
    "%matplotlib inline\n",
    "\n",
    "import numpy as np\n",
    "from sklearn.model_selection import train_test_split\n",
    "from sklearn.preprocessing import normalize\n",
    "from sklearn.metrics import confusion_matrix\n",
    "\n",
    "import matplotlib.pyplot as plt\n",
    "import matplotlib.cm as CM\n",
    "\n",
    "import torch\n",
    "from torch.autograd import Variable\n",
    "import torch.nn as nn\n",
    "import torch.nn.functional as F\n",
    "import torch.optim as optim\n",
    "from torch.utils.data import TensorDataset, DataLoader\n",
    "from torch.utils.data.sampler import SequentialSampler"
   ]
  },
  {
   "cell_type": "code",
   "execution_count": 2,
   "metadata": {},
   "outputs": [],
   "source": [
    "train_file = 'train.csv'\n",
    "test_file = 'test.csv'\n",
    "output_file = 'submission.csv'\n",
    "\n",
    "\n",
    "# set random seed\n",
    "torch.manual_seed(1122)\n",
    "\n",
    "# load data\n",
    "raw_data = np.loadtxt(train_file, skiprows=1, dtype='int', delimiter=',')\n",
    "test_data = np.loadtxt(test_file, skiprows=1, dtype='int', delimiter=',')\n",
    "\n",
    "# create np matrices\n",
    "x_train, x_val, y_train, y_val = train_test_split(\n",
    "    raw_data[:, 1:], raw_data[:, 0], test_size=0.001)\n",
    "x_test, y_test = test_data[:, :], np.zeros((test_data.shape[0], 1))\n",
    "\n",
    "# normalize training data\n",
    "x_train = normalize(x_train, norm='max', axis=1)\n",
    "x_val = normalize(x_val, norm='max', axis=1)\n",
    "x_test = normalize(x_test, norm='max', axis=1)\n",
    "\n",
    "# create pytorch compatible dataset that has API for automated loaders\n",
    "trainset = TensorDataset(torch.Tensor(x_train.tolist()).view(-1, 1, 28, 28),\n",
    "                         torch.Tensor(y_train.tolist()).long())\n",
    "\n",
    "valset = TensorDataset(torch.Tensor(x_val.tolist()).view(-1, 1, 28, 28),\n",
    "                       torch.Tensor(y_val.tolist()).long())\n",
    "\n",
    "testset = TensorDataset(torch.Tensor(x_test.tolist()).view(-1, 1, 28, 28),\n",
    "                        torch.Tensor(y_test.tolist()).long())\n",
    "\n",
    "# create pytorch mini-batch loader DataLoader for the dataset\n",
    "trainloader = DataLoader(trainset, batch_size=100, shuffle=True)\n",
    "\n",
    "valloader = DataLoader(valset, batch_size=250, shuffle=True)\n",
    "\n",
    "# for test set, we want to maintain the sequence of the data\n",
    "testsampler = SequentialSampler(testset)\n",
    "testloader = DataLoader(testset, batch_size=100, shuffle=False,\n",
    "                        sampler=testsampler)"
   ]
  },
  {
   "cell_type": "code",
   "execution_count": 3,
   "metadata": {},
   "outputs": [],
   "source": [
    "\n",
    "# define and initialize a multilayer-perceptron, a criterion, and an optimizer\n",
    "class MLP(nn.Module):\n",
    "    def __init__(self):\n",
    "        super(MLP, self).__init__()\n",
    "        self.l1 = nn.Linear(1 * 28 * 28, 20)\n",
    "        self.t1 = nn.Tanh()\n",
    "        self.l2 = nn.Linear(20, 10)\n",
    "        self.t2 = nn.LogSoftmax()\n",
    "\n",
    "    def forward(self, x):\n",
    "        x = x.view(-1, 1*28*28)\n",
    "        x = self.t1(self.l1(x))\n",
    "        x = self.t2(self.l2(x))\n",
    "        return x\n",
    "\n",
    "mlp = MLP()\n",
    "criterion = nn.NLLLoss()\n",
    "optimizer = optim.SGD(mlp.parameters(), lr=0.1, momentum=0.9)"
   ]
  },
  {
   "cell_type": "code",
   "execution_count": 4,
   "metadata": {},
   "outputs": [
    {
     "name": "stdout",
     "output_type": "stream",
     "text": [
      "MLP (\n",
      "  (l1): Linear (784 -> 20)\n",
      "  (t1): Tanh ()\n",
      "  (l2): Linear (20 -> 10)\n",
      "  (t2): LogSoftmax ()\n",
      ")\n",
      "NLLLoss (\n",
      ")\n",
      "<torch.optim.sgd.SGD object at 0x1072460b8>\n"
     ]
    }
   ],
   "source": [
    "print(mlp)\n",
    "print(criterion)\n",
    "print(optimizer)"
   ]
  },
  {
   "cell_type": "code",
   "execution_count": 7,
   "metadata": {},
   "outputs": [],
   "source": [
    "# define a training epoch function\n",
    "def trainEpoch(dataloader, epoch):\n",
    "    print(\"Training Epoch %i\" % (epoch + 1))\n",
    "    mlp.train()\n",
    "    for i, data in enumerate(dataloader, 0):\n",
    "        inputs, labels = data\n",
    "        inputs, labels = Variable(inputs), Variable(labels)\n",
    "        optimizer.zero_grad()\n",
    "        outputs = mlp(inputs)\n",
    "        loss = criterion(outputs, labels)\n",
    "        loss.backward()\n",
    "        optimizer.step()\n",
    "\n",
    "\n",
    "def validateModel(dataloader, epoch):\n",
    "    mlp.eval()\n",
    "    test_loss = 0\n",
    "    correct = 0\n",
    "    pred = np.array([])\n",
    "    targ = np.array([])\n",
    "    for inputs, targets in dataloader:\n",
    "        inputs, targets = Variable(inputs), Variable(targets)\n",
    "        outputs = mlp(inputs)\n",
    "        test_loss += F.nll_loss(outputs, targets, size_average=False).data[0]\n",
    "        pred = np.append(pred, outputs.topk(1)[1].data.view(1, -1).numpy())\n",
    "        targ = np.append(targ, targets.data.numpy())\n",
    "        prd = outputs.topk(1)[1].data\n",
    "        correct += prd.eq(targets.data.view_as(prd)).sum()\n",
    "    test_loss /= len(dataloader.dataset)\n",
    "    test_acc = correct / len(dataloader.dataset)\n",
    "    cm = confusion_matrix(targ, pred)\n",
    "    print('[Epoch %i] Accuracy: %.2f, Average Loss: %.2f' %\n",
    "          (epoch, test_acc, test_loss))\n",
    "    return test_loss, test_acc, cm\n",
    "\n",
    "\n",
    "def testModel(dataloader):\n",
    "    mlp.eval()\n",
    "    pred = np.array([])\n",
    "    for inputs, _ in dataloader:\n",
    "        inputs = Variable(inputs)\n",
    "        outputs = mlp(inputs)\n",
    "        pred = np.append(pred, outputs.topk(1)[1].data.view(1, -1).numpy())\n",
    "    return pred"
   ]
  },
  {
   "cell_type": "code",
   "execution_count": 8,
   "metadata": {},
   "outputs": [
    {
     "name": "stdout",
     "output_type": "stream",
     "text": [
      "Training Epoch 1\n",
      "[Epoch 0] Accuracy: 0.93, Average Loss: 0.59\n",
      "Training Epoch 2\n",
      "[Epoch 1] Accuracy: 0.90, Average Loss: 0.30\n",
      "Training Epoch 3\n",
      "[Epoch 2] Accuracy: 0.90, Average Loss: 0.44\n",
      "Training Epoch 4\n",
      "[Epoch 3] Accuracy: 0.90, Average Loss: 0.39\n",
      "Training Epoch 5\n",
      "[Epoch 4] Accuracy: 0.90, Average Loss: 0.61\n",
      "Training Epoch 6\n",
      "[Epoch 5] Accuracy: 0.90, Average Loss: 0.57\n",
      "Training Epoch 7\n",
      "[Epoch 6] Accuracy: 0.90, Average Loss: 0.58\n",
      "Training Epoch 8\n",
      "[Epoch 7] Accuracy: 0.90, Average Loss: 0.52\n",
      "Training Epoch 9\n",
      "[Epoch 8] Accuracy: 0.90, Average Loss: 0.56\n",
      "Training Epoch 10\n",
      "[Epoch 9] Accuracy: 0.93, Average Loss: 0.40\n",
      "Training Epoch 11\n",
      "[Epoch 10] Accuracy: 0.90, Average Loss: 0.43\n",
      "Training Epoch 12\n",
      "[Epoch 11] Accuracy: 0.90, Average Loss: 0.51\n",
      "Training Epoch 13\n",
      "[Epoch 12] Accuracy: 0.93, Average Loss: 0.49\n",
      "Training Epoch 14\n",
      "[Epoch 13] Accuracy: 0.93, Average Loss: 0.42\n",
      "Training Epoch 15\n",
      "[Epoch 14] Accuracy: 0.93, Average Loss: 0.40\n",
      "Training Epoch 16\n",
      "[Epoch 15] Accuracy: 0.90, Average Loss: 0.59\n",
      "Training Epoch 17\n",
      "[Epoch 16] Accuracy: 0.93, Average Loss: 0.36\n",
      "Training Epoch 18\n",
      "[Epoch 17] Accuracy: 0.90, Average Loss: 0.53\n",
      "Training Epoch 19\n",
      "[Epoch 18] Accuracy: 0.93, Average Loss: 0.50\n",
      "Training Epoch 20\n",
      "[Epoch 19] Accuracy: 0.93, Average Loss: 0.46\n",
      "Training Epoch 21\n",
      "[Epoch 20] Accuracy: 0.93, Average Loss: 0.58\n",
      "Training Epoch 22\n",
      "[Epoch 21] Accuracy: 0.93, Average Loss: 0.48\n",
      "Training Epoch 23\n",
      "[Epoch 22] Accuracy: 0.93, Average Loss: 0.43\n",
      "Training Epoch 24\n",
      "[Epoch 23] Accuracy: 0.90, Average Loss: 0.48\n",
      "Training Epoch 25\n",
      "[Epoch 24] Accuracy: 0.93, Average Loss: 0.63\n",
      "Training Epoch 26\n",
      "[Epoch 25] Accuracy: 0.93, Average Loss: 0.46\n",
      "Training Epoch 27\n",
      "[Epoch 26] Accuracy: 0.90, Average Loss: 0.60\n",
      "Training Epoch 28\n",
      "[Epoch 27] Accuracy: 0.93, Average Loss: 0.51\n",
      "Training Epoch 29\n",
      "[Epoch 28] Accuracy: 0.93, Average Loss: 0.43\n",
      "Training Epoch 30\n",
      "[Epoch 29] Accuracy: 0.95, Average Loss: 0.42\n"
     ]
    }
   ],
   "source": [
    "# run the training epoch 100 times and test the result\n",
    "\n",
    "epoch_loss = []\n",
    "epoch_acc = []\n",
    "for epoch in range(30):\n",
    "    trainEpoch(trainloader, epoch)\n",
    "    loss, acc, _ = validateModel(valloader, epoch)\n",
    "    epoch_loss.append(loss)\n",
    "    epoch_acc.append(acc)"
   ]
  },
  {
   "cell_type": "code",
   "execution_count": 9,
   "metadata": {},
   "outputs": [
    {
     "data": {
      "image/png": "[encoded data removed]",
      "text/plain": [
       "<matplotlib.figure.Figure at 0x1a11788eb8>"
      ]
     },
     "metadata": {},
     "output_type": "display_data"
    },
    {
     "name": "stdout",
     "output_type": "stream",
     "text": [
      "3.0\n"
     ]
    },
    {
     "data": {
      "image/png": "[encoded data removed]",
      "text/plain": [
       "<matplotlib.figure.Figure at 0x1a3bb04908>"
      ]
     },
     "metadata": {},
     "output_type": "display_data"
    },
    {
     "name": "stdout",
     "output_type": "stream",
     "text": [
      "0.0\n"
     ]
    },
    {
     "data": {
      "image/png": "[encoded data removed]",
      "text/plain": [
       "<matplotlib.figure.Figure at 0x1a2f04df28>"
      ]
     },
     "metadata": {},
     "output_type": "display_data"
    },
    {
     "name": "stdout",
     "output_type": "stream",
     "text": [
      "5.0\n"
     ]
    },
    {
     "data": {
      "image/png": "[encoded data removed]",
      "text/plain": [
       "<matplotlib.figure.Figure at 0x1a2ec59a90>"
      ]
     },
     "metadata": {},
     "output_type": "display_data"
    },
    {
     "name": "stdout",
     "output_type": "stream",
     "text": [
      "0.0\n"
     ]
    },
    {
     "data": {
      "image/png": "[encoded data removed]",
      "text/plain": [
       "<matplotlib.figure.Figure at 0x1a2eae5198>"
      ]
     },
     "metadata": {},
     "output_type": "display_data"
    },
    {
     "name": "stdout",
     "output_type": "stream",
     "text": [
      "3.0\n"
     ]
    },
    {
     "data": {
      "image/png": "[encoded data removed]",
      "text/plain": [
       "<matplotlib.figure.Figure at 0x1091c4748>"
      ]
     },
     "metadata": {},
     "output_type": "display_data"
    },
    {
     "name": "stdout",
     "output_type": "stream",
     "text": [
      "2.0\n"
     ]
    },
    {
     "data": {
      "image/png": "[encoded data removed]",
      "text/plain": [
       "<matplotlib.figure.Figure at 0x1a16235f28>"
      ]
     },
     "metadata": {},
     "output_type": "display_data"
    },
    {
     "name": "stdout",
     "output_type": "stream",
     "text": [
      "8.0\n"
     ]
    },
    {
     "data": {
      "image/png": "[encoded data removed]",
      "text/plain": [
       "<matplotlib.figure.Figure at 0x1a1637eeb8>"
      ]
     },
     "metadata": {},
     "output_type": "display_data"
    },
    {
     "name": "stdout",
     "output_type": "stream",
     "text": [
      "9.0\n"
     ]
    },
    {
     "data": {
      "image/png": "[encoded data removed]",
      "text/plain": [
       "<matplotlib.figure.Figure at 0x1a2eae5a90>"
      ]
     },
     "metadata": {},
     "output_type": "display_data"
    },
    {
     "name": "stdout",
     "output_type": "stream",
     "text": [
      "6.0\n"
     ]
    },
    {
     "data": {
      "image/png": "[encoded data removed]",
      "text/plain": [
       "<matplotlib.figure.Figure at 0x1a165d0ef0>"
      ]
     },
     "metadata": {},
     "output_type": "display_data"
    },
    {
     "name": "stdout",
     "output_type": "stream",
     "text": [
      "1.0\n"
     ]
    }
   ],
   "source": [
    "pred = testModel(testloader)\n",
    "# check the actual image for confirmation\n",
    "def display(img):\n",
    "    one_image = img.reshape(28, 28)\n",
    "    plt.axis('off')\n",
    "    plt.imshow(one_image, cmap=CM.binary)\n",
    "\n",
    "for idx in torch.randperm(len(pred))[:10]:\n",
    "    display(test_data[idx])\n",
    "    plt.show()\n",
    "    print(pred[idx])"
   ]
  },
  {
   "cell_type": "code",
   "execution_count": null,
   "metadata": {},
   "outputs": [],
   "source": []
  }
 ],
 "metadata": {
  "kernelspec": {
   "display_name": "Python 3",
   "language": "python",
   "name": "python3"
  },
  "language_info": {
   "codemirror_mode": {
    "name": "ipython",
    "version": 3
   },
   "file_extension": ".py",
   "mimetype": "text/x-python",
   "name": "python",
   "nbconvert_exporter": "python",
   "pygments_lexer": "ipython3",
   "version": "3.6.3"
  }
 },
 "nbformat": 4,
 "nbformat_minor": 2
}
